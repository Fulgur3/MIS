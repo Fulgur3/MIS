{
 "cells": [
  {
   "cell_type": "markdown",
   "metadata": {},
   "source": [
    "## **ЗАВДАННЯ №1**"
   ]
  },
  {
   "cell_type": "markdown",
   "metadata": {},
   "source": [
    "Вправа 2: Розставлення 1 та 0 у шаховому порядку\n",
    "Постановка задачі:\n",
    "\n",
    "Вводиться число \n",
    "N\n",
    "n. Потрібно розставити 1 та 0 у шаховому порядку в матриці розміром \n",
    "N x N\n",
    "n×n, починаючи з 1."
   ]
  },
  {
   "cell_type": "code",
   "execution_count": 5,
   "metadata": {},
   "outputs": [
    {
     "name": "stdout",
     "output_type": "stream",
     "text": [
      "З використанням NumPy:\n",
      "Час виконання: 0.00900125503540039\n",
      "\n",
      "За допомогою ітеративних конструкцій:\n",
      "Час виконання: 0.06401515007019043\n"
     ]
    }
   ],
   "source": [
    "import numpy as np\n",
    "import time\n",
    "\n",
    "def task_2_numpy():\n",
    "    n = int(input(\"Введіть розмір матриці n: \"))\n",
    "    start_time = time.time()\n",
    "    result = np.indices((n, n)).sum(axis=0) % 2\n",
    "    end_time = time.time()\n",
    "    execution_time = end_time - start_time\n",
    "    return result, execution_time\n",
    "\n",
    "def task_2_iterative():\n",
    "    n = int(input(\"Введіть розмір матриці n: \"))\n",
    "    start_time = time.time()\n",
    "    result = [[(i+j) % 2 for j in range(n)] for i in range(n)]\n",
    "    end_time = time.time()\n",
    "    execution_time = end_time - start_time\n",
    "    return result, execution_time\n",
    "\n",
    "# Приклад використання\n",
    "print(\"З використанням NumPy:\")\n",
    "result_numpy, time_numpy = task_2_numpy()\n",
    "print(\"Час виконання:\", time_numpy)\n",
    "\n",
    "print(\"\\nЗа допомогою ітеративних конструкцій:\")\n",
    "result_iterative, time_iterative = task_2_iterative()\n",
    "print(\"Час виконання:\", time_iterative)"
   ]
  },
  {
   "cell_type": "markdown",
   "metadata": {},
   "source": [
    "Висновок: numpy прфцює набагато швидше на великому наборі даних"
   ]
  },
  {
   "cell_type": "markdown",
   "metadata": {},
   "source": [
    "Вправа 3. Вводяться 4 числа n, m, r, c. Вивести масив розміру\n",
    "n×m, в якому в кожному рядку з номером r і в кожному стовпчику з\n",
    "номером c стоять 0, а інші елементи дорівнюють 1."
   ]
  },
  {
   "cell_type": "code",
   "execution_count": 8,
   "metadata": {},
   "outputs": [
    {
     "name": "stdout",
     "output_type": "stream",
     "text": [
      "Час виконання (ітеративний підхід): 0.004001140594482422\n",
      "Час виконання (NumPy): 0.0010006427764892578\n"
     ]
    }
   ],
   "source": [
    "import numpy as np\n",
    "import time\n",
    "\n",
    "def task_3_numpy():\n",
    "    n, m, r, c = map(int, input(\"Введіть числа n, m, r, c через пробіл: \").split())\n",
    "    start_time = time.time()\n",
    "    arr = np.ones((n, m))\n",
    "    arr[r, :] = 0\n",
    "    arr[:, c] = 0\n",
    "    end_time = time.time()\n",
    "    execution_time = end_time - start_time\n",
    "    return arr, execution_time\n",
    "\n",
    "def task_3_iterative():\n",
    "    n, m, r, c = map(int, input(\"Введіть числа n, m, r, c через пробіл: \").split())\n",
    "    start_time = time.time()\n",
    "    arr = [[1] * m for _ in range(n)]\n",
    "    for i in range(n):\n",
    "        arr[i][c] = 0\n",
    "    for j in range(m):\n",
    "        arr[r][j] = 0\n",
    "    end_time = time.time()\n",
    "    execution_time = end_time - start_time\n",
    "    return arr, execution_time\n",
    "\n",
    "result_iterative, time_iterative = task_3_iterative()\n",
    "print(\"Час виконання (ітеративний підхід):\", time_iterative)\n",
    "\n",
    "result_numpy, time_numpy = task_3_numpy()\n",
    "print(\"Час виконання (NumPy):\", time_numpy)"
   ]
  },
  {
   "cell_type": "markdown",
   "metadata": {},
   "source": [
    "Висновок: numpy прфцює набагато швидше на великому наборі даних"
   ]
  },
  {
   "cell_type": "markdown",
   "metadata": {},
   "source": [
    "Вправа 5. Вводиться число n. Вивести масив розміру n×n, в\n",
    "якому в рядках з парними індексами стоять 1, а в інших – 0."
   ]
  },
  {
   "cell_type": "code",
   "execution_count": 9,
   "metadata": {},
   "outputs": [
    {
     "name": "stdout",
     "output_type": "stream",
     "text": [
      "Час виконання (ітеративний підхід): 0.05401253700256348\n",
      "Час виконання (NumPy): 0.002000570297241211\n"
     ]
    }
   ],
   "source": [
    "import numpy as np\n",
    "import time\n",
    "\n",
    "def task_5_numpy():\n",
    "    n = int(input(\"Введіть розмір матриці n: \"))\n",
    "    start_time = time.time()\n",
    "    result = np.zeros((n, n))\n",
    "    result[::2, :] = 1\n",
    "    end_time = time.time()\n",
    "    execution_time = end_time - start_time\n",
    "    return result, execution_time\n",
    "\n",
    "def task_5_iterative():\n",
    "    n = int(input(\"Введіть розмір матриці n: \"))\n",
    "    start_time = time.time()\n",
    "    result = [[1 if i % 2 == 0 else 0 for j in range(n)] for i in range(n)]\n",
    "    end_time = time.time()\n",
    "    execution_time = end_time - start_time\n",
    "    return result, execution_time\n",
    "\n",
    "result_iterative, time_iterative = task_5_iterative()\n",
    "print(\"Час виконання (ітеративний підхід):\", time_iterative)\n",
    "\n",
    "result_numpy, time_numpy = task_5_numpy()\n",
    "print(\"Час виконання (NumPy):\", time_numpy)"
   ]
  },
  {
   "cell_type": "markdown",
   "metadata": {},
   "source": [
    "Висновок: numpy прфцює набагато швидше на великому наборі даних"
   ]
  },
  {
   "cell_type": "markdown",
   "metadata": {},
   "source": [
    "Вправа 9. Вводиться число n. Створити масив значень від n до 0."
   ]
  },
  {
   "cell_type": "code",
   "execution_count": 12,
   "metadata": {},
   "outputs": [
    {
     "name": "stdout",
     "output_type": "stream",
     "text": [
      "Час виконання (ітеративний підхід): 0.0\n",
      "Час виконання (NumPy): 0.0\n"
     ]
    }
   ],
   "source": [
    "import numpy as np\n",
    "import time\n",
    "\n",
    "def task_9_numpy():\n",
    "    n = int(input(\"Введіть число n: \"))\n",
    "    start_time = time.time()\n",
    "    result = np.arange(n, -1, -1)\n",
    "    end_time = time.time()\n",
    "    execution_time = end_time - start_time\n",
    "    return result, execution_time\n",
    "\n",
    "def task_9_iterative():\n",
    "    n = int(input(\"Введіть число n: \"))\n",
    "    start_time = time.time()\n",
    "    result = list(range(n, -1, -1))\n",
    "    end_time = time.time()\n",
    "    execution_time = end_time - start_time\n",
    "    return result, execution_time\n",
    "\n",
    "# Приклад використання\n",
    "result_iterative, time_iterative = task_9_iterative()\n",
    "print(\"Час виконання (ітеративний підхід):\", time_iterative)\n",
    "\n",
    "# Приклад використання\n",
    "result_numpy, time_numpy = task_9_numpy()\n",
    "print(\"Час виконання (NumPy):\", time_numpy)"
   ]
  },
  {
   "cell_type": "markdown",
   "metadata": {},
   "source": [
    "Висновок: numpy прфцює набагато швидше на великому наборі даних"
   ]
  },
  {
   "cell_type": "markdown",
   "metadata": {},
   "source": [
    "Вправа 13. Розмістити на полі 8×8 нулі та одиниці в шахматному\n",
    "порядку, використовуючи функцію повторення (*).\n",
    "##\n",
    "Вправа 14. Розмістити на полі 8×8 нулі та одиниці в шахматному\n",
    "порядку, використовуючи функцію numpy tile()."
   ]
  },
  {
   "cell_type": "code",
   "execution_count": 14,
   "metadata": {},
   "outputs": [
    {
     "name": "stdout",
     "output_type": "stream",
     "text": [
      "Час виконання (ітеративний підхід): 0.0\n",
      "Час виконання (NumPy): 0.0\n"
     ]
    }
   ],
   "source": [
    "import numpy as np\n",
    "import time\n",
    "\n",
    "def task_13_numpy():\n",
    "    start_time = time.time()\n",
    "    chessboard = np.tile([[0, 1], [1, 0]], (4, 4))\n",
    "    end_time = time.time()\n",
    "    execution_time = end_time - start_time\n",
    "    return chessboard, execution_time\n",
    "\n",
    "def task_14_iterative():\n",
    "    even_row = [0, 1] * 4 \n",
    "    odd_row = [1, 0] * 4\n",
    "    start_time = time.time()\n",
    "    chessboard = [even_row if i % 2 == 0 else odd_row for i in range(8)]\n",
    "    end_time = time.time()\n",
    "    execution_time = end_time - start_time\n",
    "    return chessboard, execution_time\n",
    "\n",
    "result_iterative, time_iterative = task_14_iterative()\n",
    "print(\"Час виконання (ітеративний підхід):\", time_iterative)\n",
    "\n",
    "result_numpy, time_numpy = task_13_numpy()\n",
    "print(\"Час виконання (NumPy):\", time_numpy)"
   ]
  },
  {
   "cell_type": "markdown",
   "metadata": {},
   "source": [
    "Висновок: numpy та ітеративний падхід працюють з однаковою швидкістю на цьому наборі даних"
   ]
  },
  {
   "cell_type": "markdown",
   "metadata": {},
   "source": [
    "Вправа 16. Заповнити вектор значеннями від 0 до n. Всі значення,\n",
    "що більші за n/4 та менші за 3n/4 замінити нулями."
   ]
  },
  {
   "cell_type": "code",
   "execution_count": 15,
   "metadata": {},
   "outputs": [
    {
     "name": "stdout",
     "output_type": "stream",
     "text": [
      "Час виконання (ітеративний підхід): 0.0\n",
      "Час виконання (NumPy): 0.0\n"
     ]
    }
   ],
   "source": [
    "import numpy as np\n",
    "import time\n",
    "\n",
    "def task_16_numpy():\n",
    "    n = int(input(\"Введіть число n: \"))\n",
    "    start_time = time.time()\n",
    "    vector = np.arange(n+1)\n",
    "    vector[(vector > n/4) & (vector < 3*n/4)] = 0\n",
    "    end_time = time.time()\n",
    "    execution_time = end_time - start_time\n",
    "    \n",
    "    return vector, execution_time\n",
    "\n",
    "def task_16_iterative():\n",
    "    n = int(input(\"Введіть число n: \"))\n",
    "    vector = []\n",
    "    start_time = time.time()\n",
    "    for i in range(n+1):\n",
    "        if i > n/4 and i < 3*n/4:\n",
    "            vector.append(0)\n",
    "        else:\n",
    "            vector.append(i)\n",
    "    end_time = time.time()\n",
    "    execution_time = end_time - start_time\n",
    "    \n",
    "    return vector, execution_time\n",
    "\n",
    "result_iterative, time_iterative = task_16_iterative()\n",
    "print(\"Час виконання (ітеративний підхід):\", time_iterative)\n",
    "\n",
    "result_numpy, time_numpy = task_16_numpy()\n",
    "print(\"Час виконання (NumPy):\", time_numpy)"
   ]
  },
  {
   "cell_type": "markdown",
   "metadata": {},
   "source": [
    "Висновок: numpy та ітеративний падхід працюють з однаковою швидкістю на цьому наборі даних"
   ]
  },
  {
   "cell_type": "markdown",
   "metadata": {},
   "source": [
    "Вправа 17. Заповнити вектор значеннями від 0 до n. Замінити\n",
    "знаки для всіх значень, що менші за n/2 та більші за 3n/4 на\n",
    "протилежні."
   ]
  },
  {
   "cell_type": "code",
   "execution_count": 16,
   "metadata": {},
   "outputs": [
    {
     "name": "stdout",
     "output_type": "stream",
     "text": [
      "Час виконання (ітеративний підхід): 0.0010001659393310547\n",
      "Час виконання (NumPy): 0.0\n"
     ]
    }
   ],
   "source": [
    "import numpy as np\n",
    "import time\n",
    "\n",
    "def task_17_numpy():\n",
    "    n = int(input(\"Введіть число n: \"))\n",
    "    start_time = time.time()\n",
    "    vector = np.arange(n+1)\n",
    "    \n",
    "    # Замінюємо знаки для певних значень на протилежні\n",
    "    vector[(vector < n/2) | (vector > 3*n/4)] *= -1\n",
    "    end_time = time.time()\n",
    "    execution_time = end_time - start_time\n",
    "    \n",
    "    return vector, execution_time\n",
    "\n",
    "def task_17_iterative():\n",
    "    n = int(input(\"Введіть число n: \"))\n",
    "    start_time = time.time()\n",
    "    vector = []\n",
    "    for i in range(n+1):\n",
    "        if i < n/2 or i > 3*n/4:\n",
    "            vector.append(-i)\n",
    "        else:\n",
    "            vector.append(i)\n",
    "    end_time = time.time()\n",
    "    execution_time = end_time - start_time\n",
    "    \n",
    "    return vector, execution_time\n",
    "\n",
    "result_iterative, time_iterative = task_16_iterative()\n",
    "print(\"Час виконання (ітеративний підхід):\", time_iterative)\n",
    "\n",
    "result_numpy, time_numpy = task_16_numpy()\n",
    "print(\"Час виконання (NumPy):\", time_numpy)"
   ]
  },
  {
   "cell_type": "markdown",
   "metadata": {},
   "source": [
    "Висновок: numpy та ітеративний падхід працюють з однаковою швидкістю на цьому наборі даних"
   ]
  },
  {
   "cell_type": "markdown",
   "metadata": {},
   "source": [
    "Вправа 20. Згенерувати вектор із n випадкових елементів, що\n",
    "лежать в інтервалі (0,1). Замінити максимальний елемент на 0."
   ]
  },
  {
   "cell_type": "code",
   "execution_count": 17,
   "metadata": {},
   "outputs": [
    {
     "name": "stdout",
     "output_type": "stream",
     "text": [
      "Час виконання (ітеративний підхід): 0.0010001659393310547\n",
      "Час виконання (NumPy): 0.0\n"
     ]
    }
   ],
   "source": [
    "import numpy as np\n",
    "import random\n",
    "import time\n",
    "\n",
    "def task_20_numpy():\n",
    "    n = int(input(\"Введіть число n: \"))\n",
    "    start_time = time.time()\n",
    "    # Генеруємо вектор з випадковими числами у проміжку (0, 1)\n",
    "    vector = np.random.rand(n)\n",
    "    \n",
    "    # Знаходимо індекс максимального елементу\n",
    "    max_index = np.argmax(vector)\n",
    "    \n",
    "    # Замінюємо максимальний елемент на 0\n",
    "    vector[max_index] = 0\n",
    "    \n",
    "    end_time = time.time()\n",
    "    execution_time = end_time - start_time\n",
    "    \n",
    "    return vector, execution_time\n",
    "\n",
    "def task_20_iterative():\n",
    "    n = int(input(\"Введіть число n: \"))\n",
    "    start_time = time.time()\n",
    "    # Генеруємо вектор з випадковими числами у проміжку (0, 1)\n",
    "    vector = [random.random() for _ in range(n)]\n",
    "    \n",
    "    # Знаходимо максимальний елемент\n",
    "    max_value = max(vector)\n",
    "    \n",
    "    # Замінюємо максимальний елемент на 0\n",
    "    vector[vector.index(max_value)] = 0\n",
    "    \n",
    "    end_time = time.time()\n",
    "    execution_time = end_time - start_time\n",
    "    \n",
    "    return vector, execution_time\n",
    "\n",
    "result_iterative, time_iterative = task_16_iterative()\n",
    "print(\"Час виконання (ітеративний підхід):\", time_iterative)\n",
    "\n",
    "result_numpy, time_numpy = task_16_numpy()\n",
    "print(\"Час виконання (NumPy):\", time_numpy)"
   ]
  },
  {
   "cell_type": "markdown",
   "metadata": {},
   "source": [
    "Висновок: numpy та ітеративний падхід працюють з однаковою швидкістю на цьому наборі даних"
   ]
  },
  {
   "cell_type": "markdown",
   "metadata": {},
   "source": [
    "## **ЗАВДАННЯ №2**"
   ]
  },
  {
   "cell_type": "markdown",
   "metadata": {},
   "source": [
    "x1 + x2 + 2x3 + 3x4 = 1\n",
    "##\n",
    "3x1 - x2 - 1x3 - 2x4 = -4\n",
    "##\n",
    "2x1 - 3x2 - 1x3 - 1x4 = -6\n",
    "##\n",
    "1x1 + 2x2 + 3x3 -1x4 = -4\n",
    "##\n",
    "\n",
    "2. Розв’язати систему алгебраїчних рівнянь за допомогою\n",
    "##\n",
    "формул Крамера і виконати перевірку за допомогою:\n",
    "##\n",
    "a) матричного множення;\n",
    "##\n",
    "b) оберненої матриці;\n",
    "##\n",
    "c) функції numpy.linalg.solve().\n",
    "##\n",
    "Порівняти всі рішення за допомогою функції numpy.allclose()."
   ]
  },
  {
   "cell_type": "code",
   "execution_count": 18,
   "metadata": {},
   "outputs": [
    {
     "name": "stdout",
     "output_type": "stream",
     "text": [
      "Визначник головної матриці: 81.00000000000003\n",
      "Визначники матриць заміною стовпців: [-44.99999999999999, 152.99999999999997, -161.99999999999994, 99.00000000000007]\n",
      "Значення кожного невідомого за формулами Крамера: [-0.5555555555555552, 1.888888888888888, -1.9999999999999987, 1.2222222222222228]\n",
      "Розв'язок за допомогою матричного множення: [-0.55555556  1.88888889 -2.          1.22222222]\n",
      "Розв'язок за допомогою оберненої матриці: [-0.55555556  1.88888889 -2.          1.22222222]\n",
      "Розв'язок за допомогою numpy.linalg.solve(): [-0.55555556  1.88888889 -2.          1.22222222]\n",
      "\n",
      "Чи всі розв'язки співпадають: True\n"
     ]
    }
   ],
   "source": [
    "import numpy as np\n",
    "\n",
    "# Головна матриця коефіцієнтів\n",
    "A = np.array([[1, 1, 2, 3],\n",
    "              [3, -1, -1, -2],\n",
    "              [2, -3, -1, -1],\n",
    "              [1, 2, 3, -1]])\n",
    "\n",
    "# Матриця вільних членів\n",
    "B = np.array([1, -4, -6, -4])\n",
    "\n",
    "# Знаходимо визначник головної матриці\n",
    "det_A = np.linalg.det(A)\n",
    "\n",
    "# Знаходимо визначники матриць заміною стовпців\n",
    "dets = []\n",
    "for i in range(len(A)):\n",
    "    Ai = A.copy()\n",
    "    Ai[:, i] = B\n",
    "    det_Ai = np.linalg.det(Ai)\n",
    "    dets.append(det_Ai)\n",
    "\n",
    "print(\"Визначник головної матриці:\", det_A)\n",
    "print(\"Визначники матриць заміною стовпців:\", dets)\n",
    "\n",
    "# Знаходимо значення кожного невідомого за формулами Крамера\n",
    "X = []\n",
    "for det in dets:\n",
    "    Xi = det / det_A\n",
    "    X.append(Xi)\n",
    "\n",
    "print(\"Значення кожного невідомого за формулами Крамера:\", X)\n",
    "\n",
    "# Розрахунок за допомогою матричного множення\n",
    "X_matrix_multiply = np.linalg.inv(A).dot(B)\n",
    "\n",
    "# Розрахунок за допомогою оберненої матриці\n",
    "X_inv_matrix = np.dot(np.linalg.inv(A), B)\n",
    "\n",
    "# Розрахунок за допомогою функції numpy.linalg.solve()\n",
    "X_np_solve = np.linalg.solve(A, B)\n",
    "\n",
    "print(\"Розв'язок за допомогою матричного множення:\", X_matrix_multiply)\n",
    "print(\"Розв'язок за допомогою оберненої матриці:\", X_inv_matrix)\n",
    "print(\"Розв'язок за допомогою numpy.linalg.solve():\", X_np_solve)\n",
    "\n",
    "print(\"\\nЧи всі розв'язки співпадають:\", np.allclose(X, X_matrix_multiply) and\n",
    "                                      np.allclose(X, X_inv_matrix) and\n",
    "                                      np.allclose(X, X_np_solve))"
   ]
  },
  {
   "cell_type": "markdown",
   "metadata": {},
   "source": [
    "## **ЗАВДАННЯ №3**"
   ]
  },
  {
   "cell_type": "markdown",
   "metadata": {},
   "source": [
    "3. Обчислити значення матричного виразу\n",
    "## \n",
    "а) з використанням універсальних функцій бібліотеки NumPy.\n",
    "## \n",
    "b) за допомогою ітеративних конструкцій (з використанням\n",
    "## \n",
    "циклів, спискових включень тощо).\n",
    "## \n",
    "с) для обох випадків підрахувати час виконання скрипту та\n",
    "## \n",
    "зробити висновок.\n",
    "## \n",
    "Порівняти всі рішення за допомогою функції numpy.allclose().\n",
    "## \n",
    "3) 2(A + B)(2B - A) ,\n",
    "## \n",
    "де A = \n",
    "## \n",
    "2 3 -1\n",
    "## \n",
    "4 5 2\n",
    "## \n",
    "-1 0 7\n",
    "\n",
    "## \n",
    "B = \n",
    "## \n",
    "-1 0 5\n",
    "## \n",
    "0 1 3\n",
    "## \n",
    "2 -2 4"
   ]
  },
  {
   "cell_type": "code",
   "execution_count": 70,
   "metadata": {},
   "outputs": [
    {
     "name": "stdout",
     "output_type": "stream",
     "text": [
      "Результат (NumPy):\n",
      "[[ -8 -18  88]\n",
      " [-32 -36  40]\n",
      " [ 10  16  22]]\n",
      "Час виконання (NumPy): 0.0\n",
      "\n",
      "Результат (ітеративний підхід):\n",
      "[[ -8 -18  88]\n",
      " [-32 -36  40]\n",
      " [ 10  16  22]]\n",
      "Час виконання (ітеративний підхід): 0.0\n",
      "\n",
      "Чи всі розв'язки співпадають: True\n"
     ]
    }
   ],
   "source": [
    "import numpy as np\n",
    "import time\n",
    "\n",
    "# Оголошення матриць A та B\n",
    "A = np.array([[2, 3, -1],\n",
    "              [4, 5, 2],\n",
    "              [-1, 0, 7]])\n",
    "\n",
    "B = np.array([[-1, 0, 5],\n",
    "              [0, 1, 3],\n",
    "              [2, -2, 4]])\n",
    "\n",
    "# Початок вимірювання часу для NumPy\n",
    "start_time_numpy = time.time()\n",
    "\n",
    "# Обчислення значення матричного виразу за допомогою NumPy\n",
    "result_numpy = 2 * (A + B) * (2 * B - A)\n",
    "\n",
    "# Кінець вимірювання часу для NumPy\n",
    "end_time_numpy = time.time()\n",
    "\n",
    "# Оголошення результатів ітеративного підходу\n",
    "result_iterative = np.zeros_like(A)\n",
    "\n",
    "# Початок вимірювання часу для ітеративного підходу\n",
    "start_time_iterative = time.time()\n",
    "\n",
    "# Обчислення значення матричного виразу ітеративно\n",
    "for i in range(len(A)):\n",
    "    for j in range(len(A[0])):\n",
    "        result_iterative[i, j] = 2 * (A[i, j] + B[i, j]) * (2 * B[i, j] - A[i, j])\n",
    "\n",
    "# Кінець вимірювання часу для ітеративного підходу\n",
    "end_time_iterative = time.time()\n",
    "\n",
    "# Виведення результатів та часу виконання\n",
    "print(\"Результат (NumPy):\")\n",
    "print(result_numpy)\n",
    "print(\"Час виконання (NumPy):\", end_time_numpy - start_time_numpy)\n",
    "\n",
    "print(\"\\nРезультат (ітеративний підхід):\")\n",
    "print(result_iterative)\n",
    "print(\"Час виконання (ітеративний підхід):\", end_time_iterative - start_time_iterative)\n",
    "\n",
    "# Порівняння розв'язків\n",
    "print(\"\\nЧи всі розв'язки співпадають:\", np.allclose(result_numpy, result_iterative))"
   ]
  },
  {
   "cell_type": "markdown",
   "metadata": {},
   "source": [
    "Numpy та ітеративний підхід праюють з однаковою швидкістю, але якщо матриця буде більшою, ітеративний буде значно постпатися Numpy"
   ]
  }
 ],
 "metadata": {
  "kernelspec": {
   "display_name": "Python 3",
   "language": "python",
   "name": "python3"
  },
  "language_info": {
   "codemirror_mode": {
    "name": "ipython",
    "version": 3
   },
   "file_extension": ".py",
   "mimetype": "text/x-python",
   "name": "python",
   "nbconvert_exporter": "python",
   "pygments_lexer": "ipython3",
   "version": "3.12.0"
  }
 },
 "nbformat": 4,
 "nbformat_minor": 2
}
